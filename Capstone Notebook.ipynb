{
 "cells": [
  {
   "cell_type": "markdown",
   "id": "portable-farming",
   "metadata": {},
   "source": [
    "# Applied Data Science Capstone Project"
   ]
  },
  {
   "cell_type": "markdown",
   "id": "divided-latest",
   "metadata": {},
   "source": [
    "## Battle of the Neighbourhoods"
   ]
  },
  {
   "cell_type": "markdown",
   "id": "suitable-highland",
   "metadata": {},
   "source": [
    "This notebook will be used for all of the steps of the capstone project, to see how it is built from the bottom up to the final deliverable."
   ]
  },
  {
   "cell_type": "code",
   "execution_count": 1,
   "id": "dramatic-diameter",
   "metadata": {},
   "outputs": [],
   "source": [
    "import pandas as pd\n",
    "import numpy as np"
   ]
  },
  {
   "cell_type": "code",
   "execution_count": 2,
   "id": "answering-archives",
   "metadata": {},
   "outputs": [
    {
     "name": "stdout",
     "output_type": "stream",
     "text": [
      "Hello Capstone Project Course!\n"
     ]
    }
   ],
   "source": [
    "print('Hello Capstone Project Course!')"
   ]
  }
 ],
 "metadata": {
  "kernelspec": {
   "display_name": "Python 3",
   "language": "python",
   "name": "python3"
  },
  "language_info": {
   "codemirror_mode": {
    "name": "ipython",
    "version": 3
   },
   "file_extension": ".py",
   "mimetype": "text/x-python",
   "name": "python",
   "nbconvert_exporter": "python",
   "pygments_lexer": "ipython3",
   "version": "3.7.9"
  }
 },
 "nbformat": 4,
 "nbformat_minor": 5
}
