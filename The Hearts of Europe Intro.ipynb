{
 "cells": [
  {
   "cell_type": "markdown",
   "id": "portable-farming",
   "metadata": {},
   "source": [
    "# The Hearts of Europe"
   ]
  },
  {
   "cell_type": "markdown",
   "id": "divided-latest",
   "metadata": {},
   "source": [
    "## Battle of the Neighbourhoods Analysis"
   ]
  },
  {
   "cell_type": "markdown",
   "id": "excited-quantity",
   "metadata": {},
   "source": [
    "## Introduction"
   ]
  },
  {
   "cell_type": "markdown",
   "id": "irish-empire",
   "metadata": {},
   "source": [
    "Moving to a new city can be a very daunting adventure, especially because of the lack of familiarity with the area. It can be things as simple as knowing the closest supermarket to your daily route or finding your favourite restaurant that can make life exponentially better when they are incorporated into one's life. This is perhaps even more of a significant effect on one's life if they are a student, living on a constrained budget and free time allowance between studies. So, it seems like a natural benefit to know as much as possible in a snapshot analysis of the prospective city. I am facing this situation currently, where I have an option of cities to move to in continuation of postgraduate studies, and knowing how these cities compare and how they are each laid out will be incredibly useful."
   ]
  },
  {
   "cell_type": "markdown",
   "id": "lesser-transport",
   "metadata": {},
   "source": [
    "## Business Problem"
   ]
  },
  {
   "cell_type": "markdown",
   "id": "departmental-coaching",
   "metadata": {},
   "source": [
    "I know that I am not alone in this situation of being entirely unfamiliar with a city but needing to know how best to adapt to the prospective lifestyle, without needing to spend a long time exploring the town to become familiar with it the long way. With the growing globalisation of education, this simple snapshot analysis will become an increasingly useful tool for students when browsing their options, as well as for the institutions which want to advertise the \"student life\" associated with them. I have seen firsthand how this specific topic is heavily advertised, and it makes sense why, people want to live comfortably, and being in a strange place is often too daunting for it to be worth relocating just because of the university. This will be a mutually beneficial tool to mediate the first impressions of each of the cities and how well they will cater to the individual. The project will rely heavily on location data, in the form of mappable area coordinates as well as the matching Foursquare data, which will then be able to describe each neighbourhood comprehensively in terms of what kinds of venues each has to offer, which creates a snapshot of the essential details of the possible new home of the prospective traveller."
   ]
  },
  {
   "cell_type": "markdown",
   "id": "purple-silver",
   "metadata": {},
   "source": [
    "## Data Collection"
   ]
  },
  {
   "cell_type": "markdown",
   "id": "seasonal-bibliography",
   "metadata": {},
   "source": [
    "The data of this problem is obviously the central factor in the project. As such, it is worth a quick glance to see how the overall aim of the project will be formed from the handful of sources. One of the most valuable data sources in this project is that which provides the location data of the neighbourhoods in the cities under analysis, so that it can be cleanly and comprehensively visualised. To accomplish this goal, with the added benefit of consistency among the cities, the data is sourced from the Inside Airbnb database (http://insideairbnb.com/get-the-data.html). This database provides an incredible wealth of data, in many different forms. The particular file which is used for each city is a `geojson` file (as deipcted in the cell below), which provides the neighbourhood name `neighbourhood`, borough name `neighbourhood_group`, and the map shape of each neighbourhood `geometry`, from which we can extract the coordinates and nicely present the maps of the cities. This location data can then be seamlessly coupled with the Foursquare databases, through the name of each neighbourhood. This then allows for the access to all of the venue data of the neighbourhoods, and as such only these two databases are required for the project, minimising the room for error and maximising the consistency in the data as if all of the information was being sourced from one enormous database."
   ]
  },
  {
   "cell_type": "code",
   "execution_count": 1,
   "id": "humanitarian-administrator",
   "metadata": {
    "scrolled": true
   },
   "outputs": [
    {
     "data": {
      "text/html": [
       "<div>\n",
       "<style scoped>\n",
       "    .dataframe tbody tr th:only-of-type {\n",
       "        vertical-align: middle;\n",
       "    }\n",
       "\n",
       "    .dataframe tbody tr th {\n",
       "        vertical-align: top;\n",
       "    }\n",
       "\n",
       "    .dataframe thead th {\n",
       "        text-align: right;\n",
       "    }\n",
       "</style>\n",
       "<table border=\"1\" class=\"dataframe\">\n",
       "  <thead>\n",
       "    <tr style=\"text-align: right;\">\n",
       "      <th></th>\n",
       "      <th>neighbourhood</th>\n",
       "      <th>neighbourhood_group</th>\n",
       "      <th>geometry</th>\n",
       "    </tr>\n",
       "  </thead>\n",
       "  <tbody>\n",
       "    <tr>\n",
       "      <th>0</th>\n",
       "      <td>Altstadt-Lehel</td>\n",
       "      <td>None</td>\n",
       "      <td>MULTIPOLYGON (((11.59520 48.14170, 11.59500 48...</td>\n",
       "    </tr>\n",
       "    <tr>\n",
       "      <th>1</th>\n",
       "      <td>Ludwigsvorstadt-Isarvorstadt</td>\n",
       "      <td>None</td>\n",
       "      <td>MULTIPOLYGON (((11.55600 48.14080, 11.55930 48...</td>\n",
       "    </tr>\n",
       "    <tr>\n",
       "      <th>2</th>\n",
       "      <td>Maxvorstadt</td>\n",
       "      <td>None</td>\n",
       "      <td>MULTIPOLYGON (((11.58430 48.14420, 11.58310 48...</td>\n",
       "    </tr>\n",
       "    <tr>\n",
       "      <th>3</th>\n",
       "      <td>Schwabing-West</td>\n",
       "      <td>None</td>\n",
       "      <td>MULTIPOLYGON (((11.58170 48.17630, 11.58320 48...</td>\n",
       "    </tr>\n",
       "    <tr>\n",
       "      <th>4</th>\n",
       "      <td>Au-Haidhausen</td>\n",
       "      <td>None</td>\n",
       "      <td>MULTIPOLYGON (((11.59560 48.14050, 11.59590 48...</td>\n",
       "    </tr>\n",
       "  </tbody>\n",
       "</table>\n",
       "</div>"
      ],
      "text/plain": [
       "                  neighbourhood neighbourhood_group  \\\n",
       "0                Altstadt-Lehel                None   \n",
       "1  Ludwigsvorstadt-Isarvorstadt                None   \n",
       "2                   Maxvorstadt                None   \n",
       "3                Schwabing-West                None   \n",
       "4                 Au-Haidhausen                None   \n",
       "\n",
       "                                            geometry  \n",
       "0  MULTIPOLYGON (((11.59520 48.14170, 11.59500 48...  \n",
       "1  MULTIPOLYGON (((11.55600 48.14080, 11.55930 48...  \n",
       "2  MULTIPOLYGON (((11.58430 48.14420, 11.58310 48...  \n",
       "3  MULTIPOLYGON (((11.58170 48.17630, 11.58320 48...  \n",
       "4  MULTIPOLYGON (((11.59560 48.14050, 11.59590 48...  "
      ]
     },
     "execution_count": 1,
     "metadata": {},
     "output_type": "execute_result"
    }
   ],
   "source": [
    "import geopandas as gpd\n",
    "\n",
    "munich_neighbourhoods_df = gpd.read_file('Data/neighbourhoods_mu.geojson')\n",
    "\n",
    "munich_neighbourhoods_df.head()"
   ]
  }
 ],
 "metadata": {
  "kernelspec": {
   "display_name": "Python 3",
   "language": "python",
   "name": "python3"
  },
  "language_info": {
   "codemirror_mode": {
    "name": "ipython",
    "version": 3
   },
   "file_extension": ".py",
   "mimetype": "text/x-python",
   "name": "python",
   "nbconvert_exporter": "python",
   "pygments_lexer": "ipython3",
   "version": "3.7.9"
  }
 },
 "nbformat": 4,
 "nbformat_minor": 5
}
